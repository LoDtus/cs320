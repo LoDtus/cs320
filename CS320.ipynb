{
  "nbformat": 4,
  "nbformat_minor": 0,
  "metadata": {
    "colab": {
      "provenance": [],
      "toc_visible": true,
      "authorship_tag": "ABX9TyMHmuxLuPYZWK2nLqkxU/Dw",
      "include_colab_link": true
    },
    "kernelspec": {
      "name": "python3",
      "display_name": "Python 3"
    },
    "language_info": {
      "name": "python"
    }
  },
  "cells": [
    {
      "cell_type": "markdown",
      "metadata": {
        "id": "view-in-github",
        "colab_type": "text"
      },
      "source": [
        "<a href=\"https://colab.research.google.com/github/LoDtus/cs320/blob/master/CS320.ipynb\" target=\"_parent\"><img src=\"https://colab.research.google.com/assets/colab-badge.svg\" alt=\"Open In Colab\"/></a>"
      ]
    },
    {
      "cell_type": "markdown",
      "source": [
        "# Cài đặt thư viện"
      ],
      "metadata": {
        "id": "MdnKcXgP7hzf"
      }
    },
    {
      "cell_type": "code",
      "source": [],
      "metadata": {
        "id": "XEFYADLy7jmu"
      },
      "execution_count": null,
      "outputs": []
    }
  ]
}